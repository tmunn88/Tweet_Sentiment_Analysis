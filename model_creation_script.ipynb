{
 "cells": [
  {
   "cell_type": "markdown",
   "metadata": {},
   "source": [
    "# Sentiment Analysis Of Donald Trump's Tweets from 2019 "
   ]
  },
  {
   "cell_type": "markdown",
   "metadata": {},
   "source": [
    "### Out-of-Core Learning Implementation"
   ]
  },
  {
   "cell_type": "markdown",
   "metadata": {},
   "source": [
    "Authors: Tiffany J Munn (tiffany.munn@du.edu)* and Tai Chen Ye (tai-chen.ye@du.edu)*\n",
    "\n",
    "*University of Denver: Department of Computer Science and Engineering\n",
    "\n",
    "Last Update: August 27th, 2020\n",
    "\n",
    "Note:\n",
    "Many functions used in the code below were repurposed from:\n",
    "https://github.com/rasbt/python-machine-learning-book-3rd-edition Copyright (c) 2019 Sebastian Raschka"
   ]
  },
  {
   "cell_type": "markdown",
   "metadata": {},
   "source": [
    "## PART 1 - Experiment Objective\n"
   ]
  },
  {
   "cell_type": "markdown",
   "metadata": {},
   "source": [
    "Sentiment analysis uses natural language processing to analyze affective states and subjective information. In recent years considerable concern has arisen over the Sentiment analysis of a political issue.For example,  Josemar A. Caetano uses sentiment analysis to define twitter political users’ classes and their homophily during the 2016 American presidential election. Also,  Haselmayer use the sentiment analysis in political communication topic. A number of studies have been conducted on political issues in using Sentiment analysis. \n",
    "\n",
    "While others have done sentiment analysis on the tweets of our current president, Donald Trump, a more difficult task than just predicting positive or negative tweets, is capturing a 'neutral' sentiment as well. That is our aim here. We expect that capturing neurtral sentiments for Trump will be difficult as many of his tweets seem neutral but are embedded with back-handed comments that tend to lean negative. Thus, we expect that our model will need feedback to improve and therefore is a great choice for a project with a database that allows feedback from users and then partial fits to the model with that feeback.\n",
    "\n",
    "Hence, in this project we collect Donald J. Trump's tweets from http://www.trumptwitterarchive.com/ as text. Since the data is unlabeled, first, we analyze Donald Trump 2019's tweets to determine sentiment labels with TextBlob and then build a model to predict sentiment for tweets not in our training set."
   ]
  },
  {
   "cell_type": "markdown",
   "metadata": {},
   "source": [
    "#### TOS and Ethical Considerations"
   ]
  },
  {
   "cell_type": "markdown",
   "metadata": {},
   "source": [
    "The website mentioned above is an open-source website that pulls from Twitter itself, where of course, Tweets are publicly available. Therefore, there should be no ethical concerns with using this data.\n",
    "\n",
    "To be sure, under FAQs of the website we see this question:\n",
    "\n",
    "    \"Can I use your data?\"\n",
    "    \"Yes. You can find the Trump data here (updated hourly). You can find the other accounts here (updated infrequently). \n",
    "    Let me know if you create anything cool.\""
   ]
  },
  {
   "cell_type": "markdown",
   "metadata": {},
   "source": [
    "## PART 2 - Data Collection"
   ]
  },
  {
   "cell_type": "markdown",
   "metadata": {},
   "source": [
    "#### Importing Relevant Packages"
   ]
  },
  {
   "cell_type": "code",
   "execution_count": 30,
   "metadata": {},
   "outputs": [
    {
     "name": "stderr",
     "output_type": "stream",
     "text": [
      "[nltk_data] Downloading package stopwords to /home/jovyan/nltk_data...\n",
      "[nltk_data]   Package stopwords is already up-to-date!\n"
     ]
    },
    {
     "data": {
      "text/plain": [
       "True"
      ]
     },
     "execution_count": 30,
     "metadata": {},
     "output_type": "execute_result"
    }
   ],
   "source": [
    "from IPython.display import Image\n",
    "import pandas as pd\n",
    "import re\n",
    "from textblob import TextBlob\n",
    "import nltk\n",
    "import numpy as np\n",
    "import sklearn\n",
    "import flask\n",
    "import pickle\n",
    "import os\n",
    "import shutil \n",
    "from nltk.corpus import stopwords\n",
    "import nltk\n",
    "nltk.download('stopwords')"
   ]
  },
  {
   "cell_type": "markdown",
   "metadata": {},
   "source": [
    "Read in a classifiable training dataset from the Internet using Python for sentiment analysis.\n",
    "we collect the data from webstie http://www.trumptwitterarchive.com/ .Here we downloading an archive.\n"
   ]
  },
  {
   "cell_type": "code",
   "execution_count": 31,
   "metadata": {},
   "outputs": [],
   "source": [
    "os.chdir('/home/jovyan/projects/Project02')\n",
    "data_2019= pd.read_excel('2019.xlsx',sep=',', encoding='utf-8')  "
   ]
  },
  {
   "cell_type": "markdown",
   "metadata": {},
   "source": [
    "### Data Labeling"
   ]
  },
  {
   "cell_type": "markdown",
   "metadata": {},
   "source": [
    "Like most internet data, this data did not come to us labeled. Therefore, we utilized a library called TextBlob, that provides a sentiment and polarity value for each text. We apply this to our data to create our label. We then transform those values to create our 3 labels \"positive\", \"negative\", and \"neutral\"."
   ]
  },
  {
   "cell_type": "markdown",
   "metadata": {},
   "source": [
    "#### Use TextBlob to Create Sentiment values for Each Tweet"
   ]
  },
  {
   "cell_type": "code",
   "execution_count": 32,
   "metadata": {},
   "outputs": [
    {
     "name": "stdout",
     "output_type": "stream",
     "text": [
      "                                                   text     label\n",
      "0     Our prayers are with the families of the victi...  0.000000\n",
      "1          RT @realDonaldTrump: https://t.co/Mn4EJ7Jbh8  0.000000\n",
      "2     RT @BreitbartNews: This Christmas let the impe...  0.000000\n",
      "3     He is Fake News will always be Fredo to us. I ... -0.500000\n",
      "4     Thank you to highly respected Jewish leader Do...  0.080000\n",
      "...                                                 ...       ...\n",
      "7776  RT @GOPChairwoman: Jobless claims fell last we...  0.000000\n",
      "7777  The Democrats much as I suspected have allocat...  0.200000\n",
      "7778                                    Happy New Year!  0.485227\n",
      "7779  HAPPY NEW YEAR TO EVERYONE INCLUDING THE HATER...  0.468182\n",
      "7780  Dr. Sebastian Gorka a very good and talented g...  0.805000\n",
      "\n",
      "[7781 rows x 2 columns]\n"
     ]
    }
   ],
   "source": [
    "data_2019['label']=data_2019.apply(lambda x: TextBlob(x.to_string()).sentiment.polarity, axis=1)\n",
    "\n",
    "print(data_2019)"
   ]
  },
  {
   "cell_type": "markdown",
   "metadata": {},
   "source": [
    "#### Convert sentiment values to labeled:  2 is positive, 0 is negative, 1 is neutral."
   ]
  },
  {
   "cell_type": "code",
   "execution_count": 33,
   "metadata": {},
   "outputs": [
    {
     "name": "stdout",
     "output_type": "stream",
     "text": [
      "                                                   text  label\n",
      "0     Our prayers are with the families of the victi...      1\n",
      "1          RT @realDonaldTrump: https://t.co/Mn4EJ7Jbh8      1\n",
      "2     RT @BreitbartNews: This Christmas let the impe...      1\n",
      "3     He is Fake News will always be Fredo to us. I ...      0\n",
      "4     Thank you to highly respected Jewish leader Do...      2\n",
      "...                                                 ...    ...\n",
      "7776  RT @GOPChairwoman: Jobless claims fell last we...      1\n",
      "7777  The Democrats much as I suspected have allocat...      2\n",
      "7778                                    Happy New Year!      2\n",
      "7779  HAPPY NEW YEAR TO EVERYONE INCLUDING THE HATER...      2\n",
      "7780  Dr. Sebastian Gorka a very good and talented g...      2\n",
      "\n",
      "[7781 rows x 2 columns]\n"
     ]
    }
   ],
   "source": [
    "def convert(x):    \n",
    "    if x>0:\n",
    "        return 2\n",
    "    elif x<0:\n",
    "        return 0\n",
    "    else:    \n",
    "        return 1\n",
    "\n",
    "data_2019['label']=data_2019['label'].apply(convert)\n",
    "print(data_2019)"
   ]
  },
  {
   "cell_type": "code",
   "execution_count": 34,
   "metadata": {},
   "outputs": [
    {
     "data": {
      "image/png": "[encoded data removed]",
      "text/plain": [
       "<Figure size 432x288 with 1 Axes>"
      ]
     },
     "metadata": {},
     "output_type": "display_data"
    }
   ],
   "source": [
    "import matplotlib.pyplot as plt\n",
    "labels = 'positive', 'negative', 'neutral'\n",
    "\n",
    "neg_count=len(data_2019.loc[data_2019['label'] == 0])\n",
    "neu_count=len(data_2019.loc[data_2019['label'] == 1])\n",
    "post_count=len(data_2019.loc[data_2019['label'] == 2])\n",
    "\n",
    "sizes = [post_count, neg_count, neu_count ]\n",
    "explode = (0.05, 0.05, 0.05)  \n",
    "fig1, ax1 = plt.subplots()\n",
    "ax1.pie(sizes, explode=explode, labels=labels, autopct='%1.1f%%',\n",
    "        shadow=True, startangle=90)\n",
    "ax1.axis('equal')  \n",
    "plt.title(\"Sentiment Analysis Of Donald Trump's Tweets 2019\")\n",
    "plt.show()\n"
   ]
  },
  {
   "cell_type": "markdown",
   "metadata": {},
   "source": [
    "## PART 3 - Data Preprocessing\n"
   ]
  },
  {
   "cell_type": "markdown",
   "metadata": {},
   "source": [
    "#### Clean text data, Tokenize the document, and construct Relevant Vectorizer Files"
   ]
  },
  {
   "cell_type": "markdown",
   "metadata": {},
   "source": [
    "#### Creating Tfidf Vectorizer to use to Train our Data"
   ]
  },
  {
   "cell_type": "code",
   "execution_count": 35,
   "metadata": {},
   "outputs": [
    {
     "name": "stdout",
     "output_type": "stream",
     "text": [
      "Overwriting tf_vectorizer.py\n"
     ]
    }
   ],
   "source": [
    "%%writefile tf_vectorizer.py\n",
    "from sklearn.feature_extraction.text import TfidfVectorizer\n",
    "import re\n",
    "import os\n",
    "import pickle\n",
    "from nltk.corpus import stopwords\n",
    "from nltk.stem.porter import PorterStemmer\n",
    "\n",
    "\n",
    "stop = stopwords.words('english')\n",
    "porter = PorterStemmer()\n",
    "\n",
    "#  clean my text data, tokenize the document\n",
    "def tokenizer(text):\n",
    "    text = re.sub('<[^>]*>', '', text)\n",
    "    text = re.sub(r'\\d+', '', text)\n",
    "    emoticons = re.findall('(?::|;|=)(?:-)?(?:\\)|\\(|D|P)',\n",
    "                           text.lower())\n",
    "    text = re.sub('[\\W]+', ' ', text.lower()) \\\n",
    "                   + ' '.join(emoticons).replace('-', '')\n",
    "    tokenized = [porter.stem(w) for w in text.split() if w not in stop]\n",
    "    return tokenized\n",
    "            \n",
    "            \n",
    "# construct a TfidfVectorizer\n",
    "\n",
    "vect = TfidfVectorizer(strip_accents=None,\n",
    "                        lowercase=False,\n",
    "                        preprocessor=None,tokenizer=tokenizer)\n"
   ]
  },
  {
   "cell_type": "markdown",
   "metadata": {},
   "source": [
    "#### Create a Hashing Vectorizer to be used for Out-of-Core Learning"
   ]
  },
  {
   "cell_type": "code",
   "execution_count": 36,
   "metadata": {},
   "outputs": [],
   "source": [
    "#creating our tweetclassifier directory to put these files in\n",
    "\n",
    "if not os.path.exists('/home/jovyan/projects/Project02/tweetclassifier'):\n",
    "    os.makedirs('/home/jovyan/projects/Project02/tweetclassifier')"
   ]
  },
  {
   "cell_type": "code",
   "execution_count": 37,
   "metadata": {},
   "outputs": [
    {
     "name": "stdout",
     "output_type": "stream",
     "text": [
      "Overwriting tweetclassifier/hash_vectorizer.py\n"
     ]
    }
   ],
   "source": [
    "%%writefile tweetclassifier/hash_vectorizer.py\n",
    "from sklearn.feature_extraction.text import HashingVectorizer\n",
    "import re\n",
    "import os\n",
    "import pickle\n",
    "from nltk.corpus import stopwords\n",
    "from nltk.stem.porter import PorterStemmer\n",
    "\n",
    "stop = stopwords.words('english')\n",
    "\n",
    "porter = PorterStemmer()\n",
    "\n",
    "#  clean my text data, tokenize the document\n",
    "def tokenizer(text):\n",
    "    text = re.sub('<[^>]*>', '', text)\n",
    "    text = re.sub(r'\\d+', '', text)\n",
    "    emoticons = re.findall('(?::|;|=)(?:-)?(?:\\)|\\(|D|P)',\n",
    "                           text.lower())\n",
    "    text = re.sub('[\\W]+', ' ', text.lower()) \\\n",
    "                   + ' '.join(emoticons).replace('-', '')\n",
    "    tokenized = [porter.stem(w) for w in text.split() if w not in stop]\n",
    "    return tokenized\n",
    "            \n",
    "# construct a Hashing Vectorizer\n",
    "\n",
    "vect = HashingVectorizer(decode_error='ignore',\n",
    "                         n_features=2**21,\n",
    "                         preprocessor=None,\n",
    "                         tokenizer=tokenizer)"
   ]
  },
  {
   "cell_type": "code",
   "execution_count": 38,
   "metadata": {},
   "outputs": [
    {
     "data": {
      "text/plain": [
       "'/home/jovyan/projects/Project02/website/hash_vectorizer.py'"
      ]
     },
     "execution_count": 38,
     "metadata": {},
     "output_type": "execute_result"
    }
   ],
   "source": [
    "#make a copy of this for our website for later\n",
    "\n",
    "if not os.path.exists('/home/jovyan/projects/Project02/website'):\n",
    "    os.makedirs('/home/jovyan/projects/Project02/website')\n",
    "\n",
    "shutil.copy2('/home/jovyan/projects/Project02/tweetclassifier/hash_vectorizer.py',\\\n",
    "             '/home/jovyan/projects/Project02/website/hash_vectorizer.py')\n"
   ]
  },
  {
   "cell_type": "markdown",
   "metadata": {},
   "source": [
    "## PART 4 - Model Optimization and Serialization\n"
   ]
  },
  {
   "cell_type": "markdown",
   "metadata": {},
   "source": [
    "### Perform a Grid Search to Get Best Params for an SGD Model"
   ]
  },
  {
   "cell_type": "code",
   "execution_count": 42,
   "metadata": {},
   "outputs": [
    {
     "data": {
      "text/plain": [
       "GridSearchCV(cv=5, error_score=nan,\n",
       "             estimator=SGDClassifier(alpha=0.0001, average=False,\n",
       "                                     class_weight=None, early_stopping=False,\n",
       "                                     epsilon=0.1, eta0=0.0, fit_intercept=True,\n",
       "                                     l1_ratio=0.15, learning_rate='optimal',\n",
       "                                     loss='hinge', max_iter=100000,\n",
       "                                     n_iter_no_change=5, n_jobs=None,\n",
       "                                     penalty='l2', power_t=0.5, random_state=1,\n",
       "                                     shuffle=True, tol=0.001,\n",
       "                                     validation_fraction=0.1, verbose=0,\n",
       "                                     warm_start=False),\n",
       "             iid='deprecated', n_jobs=None,\n",
       "             param_grid={'alpha': [0.0001, 0.001, 0.01, 0.1], 'loss': ['log'],\n",
       "                         'penalty': ['l2', 'l1', 'none']},\n",
       "             pre_dispatch='2*n_jobs', refit=True, return_train_score=False,\n",
       "             scoring='accuracy', verbose=0)"
      ]
     },
     "execution_count": 42,
     "metadata": {},
     "output_type": "execute_result"
    }
   ],
   "source": [
    "from sklearn.linear_model import SGDClassifier\n",
    "from sklearn.model_selection import GridSearchCV\n",
    "from sklearn.model_selection import cross_val_score\n",
    "from sklearn.model_selection import train_test_split\n",
    "from sklearn.pipeline import Pipeline\n",
    "from sklearn.linear_model import LogisticRegression\n",
    "from sklearn.feature_extraction.text import TfidfVectorizer\n",
    "from sklearn.model_selection import GridSearchCV\n",
    "from tf_vectorizer import vect\n",
    "\n",
    "#splitting into train and test\n",
    "X_train, X_test, y_train, y_test = train_test_split(data_2019['text'], data_2019['label'], test_size=0.3, random_state=1)\n",
    "\n",
    "#applying the Tfidf Vectorizer\n",
    "X_train, X_test =vect.fit_transform(X_train),vect.fit_transform(X_test)\n",
    "\n",
    "\n",
    "params = {\"loss\" : [\"log\"],\n",
    "    \"alpha\" : [0.0001, 0.001, 0.01, 0.1],\n",
    "    \"penalty\" : [\"l2\", \"l1\", \"none\"]}\n",
    "\n",
    "gs = GridSearchCV(estimator=SGDClassifier(max_iter=100000, random_state=1),\n",
    "                  param_grid=params,\n",
    "                  scoring='accuracy',\n",
    "                  cv=5)\n",
    "\n",
    "gs.fit(X_train, y_train)"
   ]
  },
  {
   "cell_type": "markdown",
   "metadata": {},
   "source": [
    "### Apply the optimized parameters to the HashingVectorizer For out-of-core learning file"
   ]
  },
  {
   "cell_type": "code",
   "execution_count": 43,
   "metadata": {},
   "outputs": [
    {
     "name": "stdout",
     "output_type": "stream",
     "text": [
      "Best params from grid: {'alpha': 0.0001, 'loss': 'log', 'penalty': 'l1'}\n"
     ]
    }
   ],
   "source": [
    "print(f'Best params from grid: {gs.best_params_}')\n",
    "clf = gs.best_estimator_\n"
   ]
  },
  {
   "cell_type": "code",
   "execution_count": 51,
   "metadata": {},
   "outputs": [
    {
     "data": {
      "text/plain": [
       "SGDClassifier(alpha=0.0001, average=False, class_weight=None,\n",
       "              early_stopping=False, epsilon=0.1, eta0=0.0, fit_intercept=True,\n",
       "              l1_ratio=0.15, learning_rate='optimal', loss='log',\n",
       "              max_iter=100000, n_iter_no_change=5, n_jobs=None, penalty='l1',\n",
       "              power_t=0.5, random_state=1, shuffle=True, tol=0.001,\n",
       "              validation_fraction=0.1, verbose=0, warm_start=False)"
      ]
     },
     "execution_count": 51,
     "metadata": {},
     "output_type": "execute_result"
    }
   ],
   "source": [
    "os.chdir('/home/jovyan/projects/Project02/website')\n",
    "\n",
    "from hash_vectorizer import vect\n",
    "\n",
    "#applying the Hashing Vectorizer\n",
    "#splitting into train and test\n",
    "X_train, X_test, y_train, y_test = train_test_split(data_2019['text'], data_2019['label'], test_size=0.3, random_state=1)\n",
    "\n",
    "X_train, X_test =vect.transform(X_train),vect.transform(X_test)\n",
    "\n",
    "clf = SGDClassifier(loss='log', penalty='l1',alpha=0.0001, max_iter=100000, random_state=1)\n",
    "\n",
    "clf.fit(X_train, y_train)"
   ]
  },
  {
   "cell_type": "markdown",
   "metadata": {},
   "source": [
    "### computed accuracies against  training and test datasets"
   ]
  },
  {
   "cell_type": "code",
   "execution_count": 52,
   "metadata": {},
   "outputs": [
    {
     "name": "stdout",
     "output_type": "stream",
     "text": [
      "Accuracy of trainning data 0.7627616599338964\n"
     ]
    }
   ],
   "source": [
    "print('Accuracy of trainning data', clf.score(X_train, y_train))"
   ]
  },
  {
   "cell_type": "code",
   "execution_count": 53,
   "metadata": {},
   "outputs": [
    {
     "name": "stdout",
     "output_type": "stream",
     "text": [
      "Accuracy of test data 0.7323340471092077\n"
     ]
    }
   ],
   "source": [
    "print('Accuracy of test data', clf.score(X_test, y_test))"
   ]
  },
  {
   "cell_type": "code",
   "execution_count": 54,
   "metadata": {},
   "outputs": [
    {
     "data": {
      "image/png": "[encoded data removed]",
      "text/plain": [
       "<Figure size 432x288 with 1 Axes>"
      ]
     },
     "metadata": {
      "needs_background": "light"
     },
     "output_type": "display_data"
    }
   ],
   "source": [
    "data=[0.73233,0.76276]\n",
    "label=['test_data','traning_data']\n",
    "\n",
    "axes = plt.gca()\n",
    "axes.set_ylim([0,1])\n",
    "\n",
    "plt.bar(label, data, color=('red', 'green'))\n",
    "plt.xlabel(\"test vs train\")\n",
    "plt.ylabel(\"Accuracy value\")\n",
    "plt.title(\"computed accuracies training and test datasets\")\n",
    "plt.show()"
   ]
  },
  {
   "cell_type": "markdown",
   "metadata": {},
   "source": [
    "### Pickle the resulting objects to a file "
   ]
  },
  {
   "cell_type": "code",
   "execution_count": 55,
   "metadata": {},
   "outputs": [],
   "source": [
    "clf = clf.partial_fit(X_test, y_test)"
   ]
  },
  {
   "cell_type": "code",
   "execution_count": 56,
   "metadata": {},
   "outputs": [],
   "source": [
    "#pickling for our current version\n",
    "import pickle\n",
    "import os\n",
    "from nltk.corpus import stopwords\n",
    "\n",
    "stop = stopwords.words('english')\n",
    "dest = os.path.join('tweetclassifier', 'pkl_objects')\n",
    "if not os.path.exists(dest):\n",
    "    os.makedirs(dest)\n",
    "\n",
    "pickle.dump(stop, open(os.path.join(dest, 'stopwords.pkl'), 'wb'), protocol=4)   \n",
    "pickle.dump(clf, open(os.path.join(dest, 'classifier.pkl'), 'wb'), protocol=4)\n"
   ]
  },
  {
   "cell_type": "code",
   "execution_count": 62,
   "metadata": {},
   "outputs": [],
   "source": [
    "#pickling for our out-of-core learning version\n",
    "import pickle\n",
    "import os\n",
    "\n",
    "dest = os.path.join('website', 'pkl_objects')\n",
    "if not os.path.exists(dest):\n",
    "    os.makedirs(dest)\n",
    "\n",
    "pickle.dump(stop, open(os.path.join(dest, 'stopwords.pkl'), 'wb'), protocol=4)   \n",
    "pickle.dump(clf, open(os.path.join(dest, 'classifier.pkl'), 'wb'), protocol=4)"
   ]
  },
  {
   "cell_type": "markdown",
   "metadata": {},
   "source": [
    "### Testing to See if our Pickling Worked"
   ]
  },
  {
   "cell_type": "code",
   "execution_count": 60,
   "metadata": {},
   "outputs": [],
   "source": [
    "os.chdir('/home/jovyan/projects/Project02/website')"
   ]
  },
  {
   "cell_type": "code",
   "execution_count": 65,
   "metadata": {},
   "outputs": [],
   "source": [
    "import pickle\n",
    "import re\n",
    "import os\n",
    "\n",
    "clf = pickle.load(open(os.path.join('pkl_objects', 'classifier.pkl'), 'rb'))"
   ]
  },
  {
   "cell_type": "code",
   "execution_count": 66,
   "metadata": {},
   "outputs": [
    {
     "name": "stdout",
     "output_type": "stream",
     "text": [
      "Prediction: positive\n",
      "Probability: 68.17%\n"
     ]
    }
   ],
   "source": [
    "import numpy as np\n",
    "label = {0:'negative', 1:'neutral',2:'positive'}\n",
    "\n",
    "example = [\"This world is fantastic.\"]\n",
    "\n",
    "X = vect.transform(example)\n",
    "\n",
    "print('Prediction: %s\\nProbability: %.2f%%' %\\\n",
    "      (label[clf.predict(X)[0]], \n",
    "       np.max(clf.predict_proba(X))*100))"
   ]
  },
  {
   "cell_type": "markdown",
   "metadata": {},
   "source": [
    "## PART 5 - Website Creation and Publishing"
   ]
  },
  {
   "cell_type": "code",
   "execution_count": 155,
   "metadata": {},
   "outputs": [
    {
     "data": {
      "text/plain": [
       "'/home/jovyan/projects/Project02/tweetclassifier'"
      ]
     },
     "execution_count": 155,
     "metadata": {},
     "output_type": "execute_result"
    }
   ],
   "source": [
    "os.chdir('/home/jovyan/projects/Project02/tweetclassifier')\n",
    "\n",
    "os.getcwd()"
   ]
  },
  {
   "cell_type": "code",
   "execution_count": 159,
   "metadata": {},
   "outputs": [
    {
     "data": {
      "text/plain": [
       "'./tweets.sqlite'"
      ]
     },
     "execution_count": 159,
     "metadata": {},
     "output_type": "execute_result"
    }
   ],
   "source": [
    "import shutil\n",
    "\n",
    "os.chdir('..')\n",
    "\n",
    "if not os.path.exists('tweetclassifier_with_update'):\n",
    "    os.mkdir('tweetclassifier_with_update')\n",
    "os.chdir('tweetclassifier_with_update')\n",
    "\n",
    "if not os.path.exists('pkl_objects'):\n",
    "    os.mkdir('pkl_objects')\n",
    "\n",
    "shutil.copyfile('../tweetclassifier/pkl_objects/classifier.pkl',\n",
    "                './pkl_objects/classifier.pkl')\n",
    "\n",
    "shutil.copyfile('../tweetclassifier/tweets.sqlite',\n",
    "                './tweets.sqlite')"
   ]
  },
  {
   "cell_type": "markdown",
   "metadata": {},
   "source": [
    "### Our Website hosting this classifier located here: http://overrunmunn.pythonanywhere.com/\n"
   ]
  }
 ],
 "metadata": {
  "kernelspec": {
   "display_name": "Python 3",
   "language": "python",
   "name": "python3"
  },
  "language_info": {
   "codemirror_mode": {
    "name": "ipython",
    "version": 3
   },
   "file_extension": ".py",
   "mimetype": "text/x-python",
   "name": "python",
   "nbconvert_exporter": "python",
   "pygments_lexer": "ipython3",
   "version": "3.7.6"
  }
 },
 "nbformat": 4,
 "nbformat_minor": 2
}
